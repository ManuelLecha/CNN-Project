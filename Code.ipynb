{
 "cells": [
  {
   "cell_type": "code",
   "execution_count": 46,
   "metadata": {},
   "outputs": [],
   "source": [
    "import pandas as pd\n",
    "import shutil\n",
    "import os\n",
    "\n",
    "ds = pd.read_csv(\"./MaMe_metadata/MAMe_dataset.csv\")\n",
    "labels = pd.read_csv(\"./MaMe_metadata/MAMe_labels.csv\",header= None)\n",
    "\n",
    "#train, test and validaton dataframes\n",
    "train = ds[ds['Subset'] == 'train'][['Image file','Medium']]\n",
    "test = ds[ds['Subset'] == 'test'][['Image file','Medium']]\n",
    "validation = ds[ds['Subset'] == 'val'][['Image file','Medium']]\n",
    "\n",
    "#Create train data folders\n",
    "for className in labels[1]:\n",
    "    os.mkdir('./Data/Train/'+className)\n",
    "    for filename in train[train[\"Medium\"] == className][\"Image file\"]:\n",
    "        shutil.move('./data_256/'+filename,'./Data/Train/'+className+'/'+filename)\n",
    "\n",
    "#Create validation data folders\n",
    "for className in labels[1]:\n",
    "    os.mkdir('./Data/Valid/'+className)\n",
    "    for filename in validation[validation[\"Medium\"] == className][\"Image file\"]:\n",
    "        shutil.move('./data_256/'+filename,'./Data/Valid/'+className+'/'+filename)\n",
    "\n",
    "#Create test data folders\n",
    "for className in labels[1]:\n",
    "    for filename in test[test[\"Medium\"] == className][\"Image file\"]:\n",
    "        shutil.move('./data_256/'+filename,'./Data/Test/Test_folder'+filename)"
   ]
  },
  {
   "cell_type": "code",
   "execution_count": null,
   "metadata": {},
   "outputs": [],
   "source": []
  }
 ],
 "metadata": {
  "kernelspec": {
   "display_name": "Python 3",
   "language": "python",
   "name": "python3"
  },
  "language_info": {
   "codemirror_mode": {
    "name": "ipython",
    "version": 3
   },
   "file_extension": ".py",
   "mimetype": "text/x-python",
   "name": "python",
   "nbconvert_exporter": "python",
   "pygments_lexer": "ipython3",
   "version": "3.8.0"
  }
 },
 "nbformat": 4,
 "nbformat_minor": 4
}
